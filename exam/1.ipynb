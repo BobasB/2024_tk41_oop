{
 "cells": [
  {
   "cell_type": "markdown",
   "metadata": {},
   "source": [
    "## Завдання на екзамен\n",
    "- Створити клас з конструктором та створити його обєкт."
   ]
  },
  {
   "cell_type": "code",
   "execution_count": 4,
   "metadata": {},
   "outputs": [
    {
     "name": "stdout",
     "output_type": "stream",
     "text": [
      "Виконане завдання, та вторений обєкт <__main__.MyExam object at 0x13163b050>\n"
     ]
    }
   ],
   "source": [
    "class MyExam:\n",
    "    def __init__(self):\n",
    "        pass\n",
    "\n",
    "o = MyExam()\n",
    "\n",
    "print(f\"Виконане завдання, та вторений обєкт {o}\")"
   ]
  }
 ],
 "metadata": {
  "kernelspec": {
   "display_name": "Python 3",
   "language": "python",
   "name": "python3"
  },
  "language_info": {
   "codemirror_mode": {
    "name": "ipython",
    "version": 3
   },
   "file_extension": ".py",
   "mimetype": "text/x-python",
   "name": "python",
   "nbconvert_exporter": "python",
   "pygments_lexer": "ipython3",
   "version": "3.12.7"
  }
 },
 "nbformat": 4,
 "nbformat_minor": 2
}
