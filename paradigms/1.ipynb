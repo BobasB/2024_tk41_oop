{
 "cells": [
  {
   "cell_type": "markdown",
   "metadata": {},
   "source": [
    "# 4 Парадигми програмування на ООП\n",
    "- Інкапсуляція\n",
    "- Наслідування\n",
    "- Абстракція\n",
    "- Поліморфізм"
   ]
  },
  {
   "cell_type": "markdown",
   "metadata": {},
   "source": [
    "### Інкапсуляція\n",
    "- приховування даних всередині обєкту"
   ]
  },
  {
   "cell_type": "code",
   "execution_count": null,
   "metadata": {},
   "outputs": [],
   "source": [
    "class Sword():\n",
    "    def __init__(self, name:str, attack_power:int):\n",
    "        self.name = name\n",
    "        self.__attack_power = attack_power # приватний атрибут який реалізує інкапсуляцію\n",
    "\n",
    "    @property\n",
    "    def get_attack_power(self):\n",
    "        return f\"Атака меча {self.name}: {self.__attack_power} одиниць\"\n",
    "    \n",
    "S = Sword(\"Ескалібур\", 100)\n",
    "\n",
    "S.get_attack_power"
   ]
  },
  {
   "cell_type": "markdown",
   "metadata": {},
   "source": [
    "## Наслідування\n",
    "- ієрархія класів, і кожен клас реалізує базовий функціонал для своєї роботи а калси які наслідують базовий функціонал - розширюють роботу класу"
   ]
  },
  {
   "cell_type": "code",
   "execution_count": null,
   "metadata": {},
   "outputs": [],
   "source": [
    "class Item:\n",
    "    def __init__(self, name:str):\n",
    "        self.name = name\n",
    "\n",
    "class Sword(Item): # Це наслідування\n",
    "    def __init__(self, name, attack_power:int):\n",
    "        super().__init__(name=name) #  Це виклик конструктора наслідуваного класу\n",
    "        self.__attack_power = attack_power # приватний атрибут який реалізує інкапсуляцію\n",
    "        self._sharp = 0\n",
    "\n",
    "    @property\n",
    "    def get_attack_power(self):\n",
    "        return f\"Атака меча {self.name}: {self.__attack_power + self._sharp} одиниць\"\n",
    "    \n",
    "    def sharpening(self):\n",
    "        self._sharp += 1\n",
    "\n",
    "S = Sword(\"Ескалібур\", 100)\n",
    "\n",
    "S.get_attack_power\n",
    "S.sharpening()\n",
    "S.get_attack_power"
   ]
  },
  {
   "cell_type": "markdown",
   "metadata": {},
   "source": [
    "## Абстракція\n",
    "- існування певного методу без визначення деталей його реалізації\n",
    "- ми не можемо уникнути реалізації цього методу у наслідуваних класах\n",
    "\n",
    "## Поліморфізм\n",
    "- первизначення роботи метода без зміни його назви\n",
    "- метод `atack` реалізований по різному у класах Меча та Сокири"
   ]
  },
  {
   "cell_type": "code",
   "execution_count": 28,
   "metadata": {},
   "outputs": [
    {
     "name": "stdout",
     "output_type": "stream",
     "text": [
      "Хід 0\n",
      "Завдаємо удару мечем Ескалібур та наносимо 110 шкоди. У Кратос залишалось здоровя: 390\n",
      "Завдаємо удару сокирою Кратос та наносимо 104 шкоди. У Ескалібур залишалось здоровя: 396\n",
      "Хід 1\n",
      "Завдаємо удару мечем Ескалібур та наносимо 104 шкоди. У Кратос залишалось здоровя: 286\n",
      "Завдаємо удару сокирою Кратос та наносимо 103 шкоди. У Ескалібур залишалось здоровя: 293\n",
      "Хід 2\n",
      "Завдаємо удару мечем Ескалібур та наносимо 107 шкоди. У Кратос залишалось здоровя: 179\n",
      "Завдаємо удару сокирою Кратос та наносимо 109 шкоди. У Ескалібур залишалось здоровя: 184\n",
      "Хід 3\n",
      "Завдаємо удару мечем Ескалібур та наносимо 111 шкоди. У Кратос залишалось здоровя: 68\n",
      "Завдаємо удару сокирою Кратос та наносимо 110 шкоди. У Ескалібур залишалось здоровя: 74\n",
      "Хід 4\n",
      "Завдаємо удару мечем Ескалібур та наносимо 112 шкоди. У Кратос залишалось здоровя: -44\n",
      "Завдаємо удару сокирою Кратос та наносимо 97 шкоди. У Ескалібур залишалось здоровя: -23\n",
      "Перемога за Ескалібур\n"
     ]
    }
   ],
   "source": [
    "from abc import ABC, abstractmethod\n",
    "from random import randint\n",
    "\n",
    "class Item(ABC):\n",
    "    def __init__(self, name:str, health = 500):\n",
    "        self.name = name\n",
    "        self.health = health\n",
    "    \n",
    "    @abstractmethod\n",
    "    def attack(self):\n",
    "        pass\n",
    "\n",
    "class Sword(Item): # Це наслідування\n",
    "    def __init__(self, name, attack_power:int):\n",
    "        super().__init__(name=name) #  Це виклик конструктора наслідуваного класу\n",
    "        self.__attack_power = attack_power # приватний атрибут який реалізує інкапсуляцію\n",
    "        self._sharp = 0\n",
    "    \n",
    "    def attack(self, another_item:Item): # ми не можемо створити клас без цього методу\n",
    "        current_attack = self.__attack_power + self._sharp + randint(0, 10)\n",
    "        another_item.health -= current_attack\n",
    "        return f\"Завдаємо удару мечем {self.name} та наносимо {current_attack} шкоди. У {another_item.name} залишалось здоровя: {another_item.health}\"\n",
    "    \n",
    "    @property\n",
    "    def get_attack_power(self):\n",
    "        return f\"Атака меча {self.name}: {self.__attack_power + self._sharp} одиниць\"\n",
    "    \n",
    "    def sharpening(self):\n",
    "        self._sharp += 1\n",
    "\n",
    "class Axe(Item): # Це наслідування\n",
    "    def __init__(self, name, attack_power:int):\n",
    "        super().__init__(name=name) #  Це виклик конструктора наслідуваного класу\n",
    "        self.__attack_power = attack_power # приватний атрибут який реалізує інкапсуляцію\n",
    "        self._sharp = 0\n",
    "    \n",
    "    def attack(self, another_item:Item):  # ми не можемо створити клас без цього методу\n",
    "        current_attack = self.__attack_power + randint(0, 20)\n",
    "        another_item.health -= current_attack\n",
    "        return f\"Завдаємо удару сокирою {self.name} та наносимо {current_attack} шкоди. У {another_item.name} залишалось здоровя: {another_item.health}\"\n",
    "\n",
    "    @property\n",
    "    def get_attack_power(self):\n",
    "        return f\"Атака сокири {self.name}: {self.__attack_power + self._sharp} одиниць\"\n",
    "\n",
    "S = Sword(\"Ескалібур\", 100)\n",
    "A = Axe(\"Кратос\", 95)\n",
    "\n",
    "for i in range(10):\n",
    "    print(f\"Хід {i}\")\n",
    "\n",
    "    S.sharpening()\n",
    "    print(S.attack(A))\n",
    "    if S.health <= 0:\n",
    "        print(f\"Перемога за {A.name}\")\n",
    "        break\n",
    "\n",
    "    print(A.attack(S))\n",
    "    if A.health <= 0:\n",
    "        print(f\"Перемога за {S.name}\")\n",
    "        break"
   ]
  },
  {
   "cell_type": "markdown",
   "metadata": {},
   "source": []
  },
  {
   "cell_type": "code",
   "execution_count": null,
   "metadata": {},
   "outputs": [],
   "source": []
  }
 ],
 "metadata": {
  "kernelspec": {
   "display_name": "Python 3",
   "language": "python",
   "name": "python3"
  },
  "language_info": {
   "codemirror_mode": {
    "name": "ipython",
    "version": 3
   },
   "file_extension": ".py",
   "mimetype": "text/x-python",
   "name": "python",
   "nbconvert_exporter": "python",
   "pygments_lexer": "ipython3",
   "version": "3.12.3"
  }
 },
 "nbformat": 4,
 "nbformat_minor": 2
}
