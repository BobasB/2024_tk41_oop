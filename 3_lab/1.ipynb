{
 "cells": [
  {
   "cell_type": "markdown",
   "metadata": {},
   "source": [
    "# Знайомство з ООП\n",
    "- потрібно 2 Пайтон файли, Пайтон ноутбук де будемо працювати з кодом та простий файл Пайтон де буде наш Клас\n",
    "- через те що Юпітер кешує імпорти, після зміни в нашому модулі ми повинні кожного разу перезавантажувати наш модуть, тобто виконувати комірку знизу "
   ]
  },
  {
   "cell_type": "code",
   "execution_count": 15,
   "metadata": {},
   "outputs": [
    {
     "data": {
      "text/plain": [
       "<module 'my_class' from '/Users/bbuhyl/it_college/student/2024_tk41_oop/3_lab/my_class.py'>"
      ]
     },
     "execution_count": 15,
     "metadata": {},
     "output_type": "execute_result"
    }
   ],
   "source": [
    "import importlib\n",
    "import my_class\n",
    "\n",
    "importlib.reload(my_class)"
   ]
  },
  {
   "cell_type": "code",
   "execution_count": 18,
   "metadata": {},
   "outputs": [
    {
     "name": "stdout",
     "output_type": "stream",
     "text": [
      "<class 'my_class.MySuperClass'>\n",
      "Help on class MySuperClass in module my_class:\n",
      "\n",
      "class MySuperClass(builtins.object)\n",
      " |  MySuperClass(surname, name, mark)\n",
      " |\n",
      " |  Methods defined here:\n",
      " |\n",
      " |  __init__(self, surname, name, mark)\n",
      " |      Initialize self.  See help(type(self)) for accurate signature.\n",
      " |\n",
      " |  ----------------------------------------------------------------------\n",
      " |  Data descriptors defined here:\n",
      " |\n",
      " |  __dict__\n",
      " |      dictionary for instance variables\n",
      " |\n",
      " |  __weakref__\n",
      " |      list of weak references to the object\n",
      "\n"
     ]
    }
   ],
   "source": [
    "from my_class import MySuperClass, function_in_module\n",
    "\n",
    "print(MySuperClass)\n",
    "help(MySuperClass)"
   ]
  },
  {
   "cell_type": "code",
   "execution_count": 19,
   "metadata": {},
   "outputs": [
    {
     "name": "stdout",
     "output_type": "stream",
     "text": [
      "['Студент VB B отримав оцінку 4', 'Студент FB B отримав оцінку 5', 'Студент DS S отримав оцінку 3', 'Студент TY D отримав оцінку 4']\n"
     ]
    }
   ],
   "source": [
    "name = [\"B\", \"B\", \"S\", \"D\"]\n",
    "surname = [\"VB\", \"FB\", \"DS\", \"TY\"]\n",
    "mark = [4, 5, 3, 4]\n",
    "\n",
    "print([f\"Студент {surname[i]} {name[i]} отримав оцінку {mark[i]}\" for i in range(len(name))])"
   ]
  },
  {
   "cell_type": "code",
   "execution_count": 20,
   "metadata": {},
   "outputs": [
    {
     "name": "stdout",
     "output_type": "stream",
     "text": [
      "Студент B VB отримав оцінку 4\n",
      "Студент B FB отримав оцінку 5\n",
      "Студент S DS отримав оцінку 3\n",
      "Студент D TY отримав оцінку 4\n"
     ]
    }
   ],
   "source": [
    "d = {\n",
    "    \"Прізвище\": [\"B\", \"B\", \"S\", \"D\"],\n",
    "    \"Імя\": [\"VB\", \"FB\", \"DS\", \"TY\"],\n",
    "    \"Оцінка\": [4, 5, 3, 4]\n",
    "}\n",
    "\n",
    "for i in range(len(d[\"Прізвище\"])):\n",
    "    print(f\"Студент {d[\"Прізвище\"][i]} {d[\"Імя\"][i]} отримав оцінку {d[\"Оцінка\"][i]}\")"
   ]
  },
  {
   "cell_type": "markdown",
   "metadata": {},
   "source": [
    "- в класі є особлива змінна self яка є вказівником на обєкт"
   ]
  },
  {
   "cell_type": "code",
   "execution_count": 21,
   "metadata": {},
   "outputs": [
    {
     "name": "stdout",
     "output_type": "stream",
     "text": [
      "Студент B VB отримав оцінку 4\n",
      "Студент B FB отримав оцінку 5\n",
      "Студент S DS отримав оцінку 3\n",
      "Студент D TY отримав оцінку 4\n"
     ]
    }
   ],
   "source": [
    "from my_class import MySuperClass\n",
    "c = [MySuperClass(\"B\", \"VB\", 4),\n",
    "     MySuperClass(\"B\", \"FB\", 5),\n",
    "     MySuperClass(\"S\", \"DS\", 3),\n",
    "     MySuperClass(\"D\", \"TY\", 4)\n",
    "     ]\n",
    "\n",
    "for student in c:\n",
    "    print(f\"Студент {student.surname} {student.name} отримав оцінку {student.mark}\")"
   ]
  },
  {
   "cell_type": "markdown",
   "metadata": {},
   "source": [
    "### Термінологія\n",
    "- `__init__` - аналог конструктора, це є перший метод який викликається при створення обєкта\n",
    "- `__repr__` - стрічкове представлення нашого обєкту\n",
    "- docstring - опис класу, що він робити та як ним користуватись\n",
    "- всі методи як мають подвійне підкреслення називаються Магічними\n",
    "- будь-що що передається на вхід функції або нашого коструктора називається `аргументом`, наприклад surname це аршументом\n",
    "- коли інфціалізується обєкт то йому присвоюються `атрибути`"
   ]
  },
  {
   "cell_type": "code",
   "execution_count": 19,
   "metadata": {},
   "outputs": [
    {
     "name": "stdout",
     "output_type": "stream",
     "text": [
      "Викликаємо __init__\n",
      "Представлення обєкту Студент, його задають: MySuperClass(surname, name, mark)\n",
      "Help on MySuperClass in module my_class object:\n",
      "\n",
      "class MySuperClass(builtins.object)\n",
      " |  MySuperClass(surname, name, mark)\n",
      " |\n",
      " |  Тестовий клас, зараз реалізуємо опис студента\n",
      " |\n",
      " |  ---\n",
      " |\n",
      " |  surname : str\n",
      " |      Прізвище студента\n",
      " |\n",
      " |  Methods defined here:\n",
      " |\n",
      " |  __init__(self, surname, name, mark)\n",
      " |      Ініціалізуємо обєкт\n",
      " |      - в середині конструктора створюються атрибути\n",
      " |\n",
      " |  __len__(self)\n",
      " |\n",
      " |  __repr__(self)\n",
      " |      Return repr(self).\n",
      " |\n",
      " |  ----------------------------------------------------------------------\n",
      " |  Data descriptors defined here:\n",
      " |\n",
      " |  __dict__\n",
      " |      dictionary for instance variables\n",
      " |\n",
      " |  __weakref__\n",
      " |      list of weak references to the object\n",
      "\n",
      "Тестовий клас, зараз реалізуємо опис студента\n",
      "    \n",
      "    ---\n",
      "\n",
      "    surname : str\n",
      "        Прізвище студента\n",
      "    \n",
      "    \n",
      "Довжина прізвища:  4\n",
      "Беремо атрибут імені BB\n"
     ]
    }
   ],
   "source": [
    "from my_class import MySuperClass\n",
    "obj = MySuperClass(\"ББаа\", \"BB\", None)\n",
    "\n",
    "print(obj)\n",
    "help(obj)\n",
    "\n",
    "print(MySuperClass.__doc__)\n",
    "\n",
    "print(\"Довжина прізвища: \", len(obj))\n",
    "\n",
    "print(\"Беремо атрибут імені\", obj.name)"
   ]
  }
 ],
 "metadata": {
  "kernelspec": {
   "display_name": "Python 3",
   "language": "python",
   "name": "python3"
  },
  "language_info": {
   "codemirror_mode": {
    "name": "ipython",
    "version": 3
   },
   "file_extension": ".py",
   "mimetype": "text/x-python",
   "name": "python",
   "nbconvert_exporter": "python",
   "pygments_lexer": "ipython3",
   "version": "3.12.3"
  }
 },
 "nbformat": 4,
 "nbformat_minor": 2
}
