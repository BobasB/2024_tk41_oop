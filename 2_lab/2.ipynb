{
 "cells": [
  {
   "cell_type": "markdown",
   "metadata": {},
   "source": [
    "### Типи змінних\n",
    "#### Стічкові змінні\n",
    "- змінна це просто імя (буква або набір букв або цифр) яке містить значення\n",
    "- власне значення це стрічка яка є у '' \"\""
   ]
  },
  {
   "cell_type": "code",
   "execution_count": 11,
   "metadata": {},
   "outputs": [],
   "source": [
    "a = 'Це стрічка'\n",
    "a1 = \"Це\"\n",
    "a_1 = \"стрічка\"\n",
    "a_ = '''\n",
    "Це \n",
    "мільтистрічка\n",
    "'''"
   ]
  },
  {
   "cell_type": "code",
   "execution_count": 12,
   "metadata": {},
   "outputs": [
    {
     "name": "stdout",
     "output_type": "stream",
     "text": [
      "Це стрічка Перевизначили \n",
      "Це \n",
      "мільтистрічка\n",
      "\n"
     ]
    }
   ],
   "source": [
    "# тут я хочу вивести значення\n",
    "a # спрацює коли буде в кінці комірки\n",
    "b = 'Перевизначили'\n",
    "print(a, b, a_)"
   ]
  },
  {
   "cell_type": "code",
   "execution_count": 13,
   "metadata": {},
   "outputs": [],
   "source": [
    "del a_1"
   ]
  },
  {
   "cell_type": "code",
   "execution_count": 14,
   "metadata": {},
   "outputs": [],
   "source": [
    "# ми знаємо що тут буде помилка\n",
    "#print(a_1)"
   ]
  },
  {
   "cell_type": "markdown",
   "metadata": {},
   "source": [
    "> ось така помилка буде якщо розкоментувати прінт\n",
    "```python\n",
    "---------------------------------------------------------------------------\n",
    "NameError                                 Traceback (most recent call last)\n",
    "Cell In[9], line 2\n",
    "      1 # ми знаємо що тут буде помилка\n",
    "----> 2 print(a_1)\n",
    "\n",
    "NameError: name 'a_1' is not defined\n",
    "```"
   ]
  },
  {
   "cell_type": "code",
   "execution_count": 21,
   "metadata": {},
   "outputs": [
    {
     "name": "stdout",
     "output_type": "stream",
     "text": [
      "зʼли піцу\n"
     ]
    }
   ],
   "source": [
    "піца = \"зʼли піцу\"\n",
    "print(піца)"
   ]
  },
  {
   "cell_type": "code",
   "execution_count": 23,
   "metadata": {},
   "outputs": [
    {
     "name": "stdout",
     "output_type": "stream",
     "text": [
      "<class 'str'>\n",
      "Зʼли піцу\n"
     ]
    }
   ],
   "source": [
    "print(type(піца))\n",
    "\n",
    "print(піца.capitalize())"
   ]
  },
  {
   "cell_type": "code",
   "execution_count": 27,
   "metadata": {},
   "outputs": [
    {
     "name": "stdout",
     "output_type": "stream",
     "text": [
      "Це стрічкаПеревизначили Це стрічкаПеревизначили\n"
     ]
    },
    {
     "ename": "TypeError",
     "evalue": "unsupported operand type(s) for -: 'str' and 'str'",
     "output_type": "error",
     "traceback": [
      "\u001b[0;31m---------------------------------------------------------------------------\u001b[0m",
      "\u001b[0;31mTypeError\u001b[0m                                 Traceback (most recent call last)",
      "Cell \u001b[0;32mIn[27], line 3\u001b[0m\n\u001b[1;32m      1\u001b[0m \u001b[38;5;66;03m# дадаємо дві стрічки - це операція називається Конкатенація\u001b[39;00m\n\u001b[1;32m      2\u001b[0m \u001b[38;5;28mprint\u001b[39m(a \u001b[38;5;241m+\u001b[39m b, a\u001b[38;5;241m.\u001b[39m\u001b[38;5;21m__add__\u001b[39m(b))\n\u001b[0;32m----> 3\u001b[0m \u001b[43ma\u001b[49m\u001b[43m \u001b[49m\u001b[38;5;241;43m-\u001b[39;49m\u001b[43m \u001b[49m\u001b[43mb\u001b[49m\n",
      "\u001b[0;31mTypeError\u001b[0m: unsupported operand type(s) for -: 'str' and 'str'"
     ]
    }
   ],
   "source": [
    "# дадаємо дві стрічки - це операція називається Конкатенація\n",
    "print(a + b, a.__add__(b))\n",
    "# a - b \n",
    "# TypeError: unsupported operand type(s) for -: 'str' and 'str'"
   ]
  }
 ],
 "metadata": {
  "kernelspec": {
   "display_name": "Python 3",
   "language": "python",
   "name": "python3"
  },
  "language_info": {
   "codemirror_mode": {
    "name": "ipython",
    "version": 3
   },
   "file_extension": ".py",
   "mimetype": "text/x-python",
   "name": "python",
   "nbconvert_exporter": "python",
   "pygments_lexer": "ipython3",
   "version": "3.11.1"
  }
 },
 "nbformat": 4,
 "nbformat_minor": 2
}
