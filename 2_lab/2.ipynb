{
 "cells": [
  {
   "cell_type": "markdown",
   "metadata": {},
   "source": [
    "### Типи змінних\n",
    "#### Стічкові змінні\n",
    "- змінна це просто імя (буква або набір букв або цифр) яке містить значення\n",
    "- власне значення це стрічка яка є у '' \"\""
   ]
  },
  {
   "cell_type": "code",
   "execution_count": 1,
   "metadata": {},
   "outputs": [],
   "source": [
    "a = 'Це стрічка'\n",
    "a1 = \"Це\"\n",
    "a_1 = \"стрічка\"\n",
    "a_ = '''\n",
    "Це \n",
    "мільтистрічка\n",
    "'''"
   ]
  },
  {
   "cell_type": "code",
   "execution_count": 2,
   "metadata": {},
   "outputs": [
    {
     "name": "stdout",
     "output_type": "stream",
     "text": [
      "Це стрічка Перевизначили \n",
      "Це \n",
      "мільтистрічка\n",
      "\n"
     ]
    }
   ],
   "source": [
    "# тут я хочу вивести значення\n",
    "a # спрацює коли буде в кінці комірки\n",
    "b = 'Перевизначили'\n",
    "print(a, b, a_)"
   ]
  },
  {
   "cell_type": "code",
   "execution_count": 3,
   "metadata": {},
   "outputs": [],
   "source": [
    "del a_1"
   ]
  },
  {
   "cell_type": "code",
   "execution_count": 4,
   "metadata": {},
   "outputs": [],
   "source": [
    "# ми знаємо що тут буде помилка\n",
    "#print(a_1)"
   ]
  },
  {
   "cell_type": "markdown",
   "metadata": {},
   "source": [
    "> ось така помилка буде якщо розкоментувати прінт\n",
    "```python\n",
    "---------------------------------------------------------------------------\n",
    "NameError                                 Traceback (most recent call last)\n",
    "Cell In[9], line 2\n",
    "      1 # ми знаємо що тут буде помилка\n",
    "----> 2 print(a_1)\n",
    "\n",
    "NameError: name 'a_1' is not defined\n",
    "```"
   ]
  },
  {
   "cell_type": "code",
   "execution_count": 5,
   "metadata": {},
   "outputs": [
    {
     "name": "stdout",
     "output_type": "stream",
     "text": [
      "зʼли піцу\n"
     ]
    }
   ],
   "source": [
    "піца = \"зʼли піцу\"\n",
    "print(піца)"
   ]
  },
  {
   "cell_type": "code",
   "execution_count": 6,
   "metadata": {},
   "outputs": [
    {
     "name": "stdout",
     "output_type": "stream",
     "text": [
      "<class 'str'>\n",
      "Зʼли піцу\n"
     ]
    }
   ],
   "source": [
    "print(type(піца))\n",
    "\n",
    "print(піца.capitalize())"
   ]
  },
  {
   "cell_type": "code",
   "execution_count": 7,
   "metadata": {},
   "outputs": [
    {
     "name": "stdout",
     "output_type": "stream",
     "text": [
      "Це стрічкаПеревизначили Це стрічкаПеревизначили\n"
     ]
    }
   ],
   "source": [
    "# дадаємо дві стрічки - це операція називається Конкатенація\n",
    "print(a + b, a.__add__(b))\n",
    "# a - b \n",
    "# TypeError: unsupported operand type(s) for -: 'str' and 'str'"
   ]
  }
 ],
 "metadata": {
  "kernelspec": {
   "display_name": "Python 3",
   "language": "python",
   "name": "python3"
  },
  "language_info": {
   "codemirror_mode": {
    "name": "ipython",
    "version": 3
   },
   "file_extension": ".py",
   "mimetype": "text/x-python",
   "name": "python",
   "nbconvert_exporter": "python",
   "pygments_lexer": "ipython3",
   "version": "3.12.3"
  }
 },
 "nbformat": 4,
 "nbformat_minor": 2
}
