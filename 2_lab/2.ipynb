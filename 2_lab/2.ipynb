{
 "cells": [
  {
   "cell_type": "markdown",
   "metadata": {},
   "source": [
    "### Типи змінних\n",
    "#### Стічкові змінні\n",
    "- змінна це просто імя (буква або набір букв або цифр) яке містить значення\n",
    "- власне значення це стрічка яка є у '' \"\""
   ]
  },
  {
   "cell_type": "code",
   "execution_count": 30,
   "metadata": {},
   "outputs": [],
   "source": [
    "a = 'Це стрічка'\n",
    "a1 = \"Це\"\n",
    "a_1 = \"стрічка\"\n",
    "a_ = '''\n",
    "Це \n",
    "мультистрічка\n",
    "'''"
   ]
  },
  {
   "cell_type": "code",
   "execution_count": 31,
   "metadata": {},
   "outputs": [
    {
     "name": "stdout",
     "output_type": "stream",
     "text": [
      "Це стрічка Перевизначили \n",
      "Це \n",
      "мультистрічка\n",
      "\n"
     ]
    }
   ],
   "source": [
    "# тут я хочу вивести значення\n",
    "a # спрацює коли буде в кінці комірки\n",
    "b = 'Перевизначили'\n",
    "print(a, b, a_)"
   ]
  },
  {
   "cell_type": "code",
   "execution_count": 32,
   "metadata": {},
   "outputs": [],
   "source": [
    "del a_1"
   ]
  },
  {
   "cell_type": "code",
   "execution_count": 33,
   "metadata": {},
   "outputs": [],
   "source": [
    "# ми знаємо що тут буде помилка\n",
    "#print(a_1)"
   ]
  },
  {
   "cell_type": "markdown",
   "metadata": {},
   "source": [
    "> ось така помилка буде якщо розкоментувати прінт\n",
    "```python\n",
    "---------------------------------------------------------------------------\n",
    "NameError                                 Traceback (most recent call last)\n",
    "Cell In[9], line 2\n",
    "      1 # ми знаємо що тут буде помилка\n",
    "----> 2 print(a_1)\n",
    "\n",
    "NameError: name 'a_1' is not defined\n",
    "```"
   ]
  },
  {
   "cell_type": "code",
   "execution_count": 34,
   "metadata": {},
   "outputs": [
    {
     "name": "stdout",
     "output_type": "stream",
     "text": [
      "зʼли піцу\n"
     ]
    }
   ],
   "source": [
    "піца = \"зʼли піцу\"\n",
    "print(піца)"
   ]
  },
  {
   "cell_type": "code",
   "execution_count": 35,
   "metadata": {},
   "outputs": [
    {
     "name": "stdout",
     "output_type": "stream",
     "text": [
      "<class 'str'>\n",
      "Зʼли піцу\n"
     ]
    }
   ],
   "source": [
    "print(type(піца))\n",
    "\n",
    "print(піца.capitalize())"
   ]
  },
  {
   "cell_type": "code",
   "execution_count": 36,
   "metadata": {},
   "outputs": [
    {
     "name": "stdout",
     "output_type": "stream",
     "text": [
      "Це стрічкаПеревизначили Це стрічкаПеревизначили\n"
     ]
    }
   ],
   "source": [
    "# дадаємо дві стрічки - це операція називається Конкатенація\n",
    "print(a + b, a.__add__(b))\n",
    "# a - b \n",
    "# TypeError: unsupported operand type(s) for -: 'str' and 'str'"
   ]
  },
  {
   "cell_type": "code",
   "execution_count": 37,
   "metadata": {},
   "outputs": [
    {
     "name": "stdout",
     "output_type": "stream",
     "text": [
      "Давайте почнемо з великої букви . І нове речення\n"
     ]
    }
   ],
   "source": [
    "s = \"давайте почнемо з великої букви. і нове речення\"\n",
    "s1, s2 = s.split('. ')\n",
    "print(s1.capitalize(), \".\", s2.capitalize())\n"
   ]
  },
  {
   "cell_type": "markdown",
   "metadata": {},
   "source": [
    "### Чисельні типи даних\n",
    "- цілі та числа з плаваючою крапкою"
   ]
  },
  {
   "cell_type": "code",
   "execution_count": 38,
   "metadata": {},
   "outputs": [
    {
     "name": "stdout",
     "output_type": "stream",
     "text": [
      "32\n",
      "<class 'int'>\n"
     ]
    }
   ],
   "source": [
    "d = 10000000000\n",
    "import sys\n",
    "print(sys.getsizeof(d))\n",
    "\n",
    "print(type(d))"
   ]
  },
  {
   "cell_type": "code",
   "execution_count": 39,
   "metadata": {},
   "outputs": [
    {
     "name": "stdout",
     "output_type": "stream",
     "text": [
      "<class 'float'>\n"
     ]
    }
   ],
   "source": [
    "dd = 1.1\n",
    "print(type(dd))"
   ]
  },
  {
   "cell_type": "markdown",
   "metadata": {},
   "source": [
    "- Арифметичні операції"
   ]
  },
  {
   "cell_type": "code",
   "execution_count": 40,
   "metadata": {},
   "outputs": [
    {
     "name": "stdout",
     "output_type": "stream",
     "text": [
      "1.2100000000000002\n",
      "1.0488088481701516\n"
     ]
    }
   ],
   "source": [
    "c = d * dd\n",
    "type(c)\n",
    "# тут ми робимо піднесення до степеня\n",
    "print(dd ** 2)\n",
    "import math\n",
    "print(math.sqrt(dd))"
   ]
  },
  {
   "cell_type": "code",
   "execution_count": 41,
   "metadata": {},
   "outputs": [
    {
     "name": "stdout",
     "output_type": "stream",
     "text": [
      "10|10|10|10|10|10|10|10|10|10| <class 'str'>\n",
      "10|10\n"
     ]
    }
   ],
   "source": [
    "a = \"10|\"\n",
    "b = 10\n",
    "c = a * b\n",
    "print(c, type(c))\n",
    "c = a + str(b)\n",
    "print(c)"
   ]
  },
  {
   "cell_type": "markdown",
   "metadata": {},
   "source": [
    "### Чат зробив нам програму яка виводить прямокутний трикутник"
   ]
  },
  {
   "cell_type": "code",
   "execution_count": 42,
   "metadata": {},
   "outputs": [
    {
     "name": "stdout",
     "output_type": "stream",
     "text": [
      "#_\n",
      "#_#_\n",
      "#_#_#_\n",
      "#_#_#_#_\n",
      "#_#_#_#_#_\n"
     ]
    }
   ],
   "source": [
    "# Виведення прямокутного трикутника з символів '#'\n",
    "def print_right_triangle(height):\n",
    "    for i in range(1, height + 1):\n",
    "        print('#_' * i)\n",
    "\n",
    "# Вказуємо висоту трикутника\n",
    "triangle_height = 5\n",
    "print_right_triangle(triangle_height)\n"
   ]
  },
  {
   "cell_type": "markdown",
   "metadata": {},
   "source": [
    "### Колекції - комплексні типи даних\n",
    "- list - це просто набір різних типів даних, все зібрано докупи\n",
    "- впорядкована колекція - тобто кожен елемент має свою позицію (індекси)\n",
    "- номерація або індекси починаються з 0\n",
    "- у Пайтон також є відємні індекси\n",
    "- списки можуть бути змінними"
   ]
  },
  {
   "cell_type": "code",
   "execution_count": 43,
   "metadata": {},
   "outputs": [
    {
     "name": "stdout",
     "output_type": "stream",
     "text": [
      "[1, '1', [1, 3], '2', 2]\n",
      "1 <class 'str'> А тепер до 0-го елемента:  1\n",
      "2 <class 'int'>\n",
      "[1, [1, 3], 2, 5]\n"
     ]
    }
   ],
   "source": [
    "l = [1, \"1\", [1, 3], '2', 2]\n",
    "print(l)\n",
    "print(l[1], type(l[1]), \"А тепер до 0-го елемента: \", l[0])\n",
    "print(l[-1], type(l[-1]))\n",
    "\n",
    "l.append(5)\n",
    "l.remove('2')\n",
    "l.pop(1) # тут в мене міг би бути вивід\n",
    "print(l)"
   ]
  },
  {
   "cell_type": "markdown",
   "metadata": {},
   "source": [
    "- dict або словники\n",
    "- в словниках всі дані знаходяться на іменних позиціях\n",
    "- особливість словника що ключі або назви позицій мають бути унікальними\n",
    "- словники є mutable - тобто можна змінювати"
   ]
  },
  {
   "cell_type": "code",
   "execution_count": 44,
   "metadata": {},
   "outputs": [
    {
     "name": "stdout",
     "output_type": "stream",
     "text": [
      "{'name': 1, 0: 'Перевизначив', 1: 1, 'Один': 1}\n",
      "{'name': 1, 0: 'Перевизначив', 1: 1, 'Один': 1, 'Нуль': 0}\n",
      "Перевизначив 0\n",
      "Б Богдан\n",
      "{'name': 1, 1: 1, 'Один': 1, 'Нуль': 0}\n"
     ]
    }
   ],
   "source": [
    "d = {\"name\": 1, 0: \"Нуль\", 1: 1, \"Один\": 1, 0: \"Перевизначив\"}\n",
    "print(d)\n",
    "d[\"Нуль\"] = 0\n",
    "print(d)\n",
    "print(d[0], d[\"Нуль\"])\n",
    "\n",
    "Student = {\"Прізвище\": [\"Б\", \"А\"], \"Імя\": [\"Богдан\", \"Василь\"]}\n",
    "print(Student[\"Прізвище\"][0], Student[\"Імя\"][0])\n",
    "d.pop(0)\n",
    "print(d)"
   ]
  },
  {
   "cell_type": "markdown",
   "metadata": {},
   "source": [
    "- tuple - це незмінна колекція після її створення\n",
    "- впорядкована, кожен елемент на своєму місці та початок з 0"
   ]
  },
  {
   "cell_type": "code",
   "execution_count": 45,
   "metadata": {},
   "outputs": [
    {
     "name": "stdout",
     "output_type": "stream",
     "text": [
      "Рхуємо кількість цифр 1 1 5 1\n",
      "1\n"
     ]
    }
   ],
   "source": [
    "t = (1, \"1\", \"Один\", \"1\", 2)\n",
    "\n",
    "print(\"Рхуємо кількість цифр 1\", t.count(1), len(t), t[0])\n",
    "print(t.index(\"1\"))"
   ]
  },
  {
   "cell_type": "markdown",
   "metadata": {},
   "source": [
    "- set - колекція унікальних елементів\n",
    "- невпорядкована колекція, тобто немає індексів (просто куча даних)"
   ]
  },
  {
   "cell_type": "code",
   "execution_count": 46,
   "metadata": {},
   "outputs": [
    {
     "name": "stdout",
     "output_type": "stream",
     "text": [
      "{'Один', 1, 2, '1'}\n",
      "{1, 2, 5, 'Один', '1'}\n",
      "1\n"
     ]
    }
   ],
   "source": [
    "s = set(t)\n",
    "print(s)\n",
    "s.add(5)\n",
    "s.add('Один')\n",
    "print(s)\n",
    "print(s.pop())"
   ]
  },
  {
   "cell_type": "code",
   "execution_count": 47,
   "metadata": {},
   "outputs": [
    {
     "name": "stdout",
     "output_type": "stream",
     "text": [
      "3686928237179808678\n"
     ]
    }
   ],
   "source": [
    "a = \"A\"\n",
    "b = \"A\"\n",
    "a.__hash__() == b.__hash__()\n",
    "print(a.__hash__())"
   ]
  }
 ],
 "metadata": {
  "kernelspec": {
   "display_name": "Python 3",
   "language": "python",
   "name": "python3"
  },
  "language_info": {
   "codemirror_mode": {
    "name": "ipython",
    "version": 3
   },
   "file_extension": ".py",
   "mimetype": "text/x-python",
   "name": "python",
   "nbconvert_exporter": "python",
   "pygments_lexer": "ipython3",
   "version": "3.12.3"
  }
 },
 "nbformat": 4,
 "nbformat_minor": 2
}
