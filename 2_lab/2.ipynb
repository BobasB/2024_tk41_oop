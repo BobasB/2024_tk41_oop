{
 "cells": [
  {
   "cell_type": "markdown",
   "metadata": {},
   "source": [
    "### Типи змінних\n",
    "#### Стічкові змінні\n",
    "- змінна це просто імя (буква або набір букв або цифр) яке містить значення\n",
    "- власне значення це стрічка яка є у '' \"\""
   ]
  },
  {
   "cell_type": "code",
   "execution_count": 1,
   "metadata": {},
   "outputs": [],
   "source": [
    "a = 'Це стрічка'\n",
    "a1 = \"Це\"\n",
    "a_1 = \"стрічка\"\n",
    "a_ = '''\n",
    "Це \n",
    "мільтистрічка\n",
    "'''"
   ]
  },
  {
   "cell_type": "code",
   "execution_count": 2,
   "metadata": {},
   "outputs": [
    {
     "name": "stdout",
     "output_type": "stream",
     "text": [
      "Це стрічка Перевизначили \n",
      "Це \n",
      "мільтистрічка\n",
      "\n"
     ]
    }
   ],
   "source": [
    "# тут я хочу вивести значення\n",
    "a # спрацює коли буде в кінці комірки\n",
    "b = 'Перевизначили'\n",
    "print(a, b, a_)"
   ]
  },
  {
   "cell_type": "code",
   "execution_count": 3,
   "metadata": {},
   "outputs": [],
   "source": [
    "del a_1"
   ]
  },
  {
   "cell_type": "code",
   "execution_count": 4,
   "metadata": {},
   "outputs": [],
   "source": [
    "# ми знаємо що тут буде помилка\n",
    "#print(a_1)"
   ]
  },
  {
   "cell_type": "markdown",
   "metadata": {},
   "source": [
    "> ось така помилка буде якщо розкоментувати прінт\n",
    "```python\n",
    "---------------------------------------------------------------------------\n",
    "NameError                                 Traceback (most recent call last)\n",
    "Cell In[9], line 2\n",
    "      1 # ми знаємо що тут буде помилка\n",
    "----> 2 print(a_1)\n",
    "\n",
    "NameError: name 'a_1' is not defined\n",
    "```"
   ]
  },
  {
   "cell_type": "code",
   "execution_count": 5,
   "metadata": {},
   "outputs": [
    {
     "name": "stdout",
     "output_type": "stream",
     "text": [
      "зʼли піцу\n"
     ]
    }
   ],
   "source": [
    "піца = \"зʼли піцу\"\n",
    "print(піца)"
   ]
  },
  {
   "cell_type": "code",
   "execution_count": 6,
   "metadata": {},
   "outputs": [
    {
     "name": "stdout",
     "output_type": "stream",
     "text": [
      "<class 'str'>\n",
      "Зʼли піцу\n"
     ]
    }
   ],
   "source": [
    "print(type(піца))\n",
    "\n",
    "print(піца.capitalize())"
   ]
  },
  {
   "cell_type": "code",
   "execution_count": 7,
   "metadata": {},
   "outputs": [
    {
     "name": "stdout",
     "output_type": "stream",
     "text": [
      "Це стрічкаПеревизначили Це стрічкаПеревизначили\n"
     ]
    }
   ],
   "source": [
    "# дадаємо дві стрічки - це операція називається Конкатенація\n",
    "print(a + b, a.__add__(b))\n",
    "# a - b \n",
    "# TypeError: unsupported operand type(s) for -: 'str' and 'str'"
   ]
  },
  {
   "cell_type": "code",
   "execution_count": 33,
   "metadata": {},
   "outputs": [
    {
     "name": "stdout",
     "output_type": "stream",
     "text": [
      "Давайте почнемо з великої букви . І нове речення\n"
     ]
    }
   ],
   "source": [
    "s = \"давайте почнемо з великої букви. і нове речення\"\n",
    "s1, s2 = s.split('. ')\n",
    "print(s1.capitalize(), \".\", s2.capitalize())\n"
   ]
  },
  {
   "cell_type": "markdown",
   "metadata": {},
   "source": [
    "## Чисельні типи даних\n",
    "- цілі та числа з плаваючою крапкою"
   ]
  },
  {
   "cell_type": "code",
   "execution_count": 14,
   "metadata": {},
   "outputs": [
    {
     "name": "stdout",
     "output_type": "stream",
     "text": [
      "32\n",
      "<class 'int'>\n"
     ]
    }
   ],
   "source": [
    "d = 10000000000\n",
    "import sys\n",
    "print(sys.getsizeof(d))\n",
    "\n",
    "print(type(d))"
   ]
  },
  {
   "cell_type": "code",
   "execution_count": 15,
   "metadata": {},
   "outputs": [
    {
     "name": "stdout",
     "output_type": "stream",
     "text": [
      "<class 'float'>\n"
     ]
    }
   ],
   "source": [
    "dd = 1.1\n",
    "print(type(dd))"
   ]
  },
  {
   "cell_type": "markdown",
   "metadata": {},
   "source": [
    "- Арифметичні операції"
   ]
  },
  {
   "cell_type": "code",
   "execution_count": 27,
   "metadata": {},
   "outputs": [
    {
     "name": "stdout",
     "output_type": "stream",
     "text": [
      "1.2100000000000002\n",
      "1.0488088481701516\n"
     ]
    }
   ],
   "source": [
    "c = d * dd\n",
    "type(c)\n",
    "# тут ми робимо піднесення до степеня\n",
    "print(dd ** 2)\n",
    "import math\n",
    "print(math.sqrt(dd))"
   ]
  },
  {
   "cell_type": "code",
   "execution_count": 26,
   "metadata": {},
   "outputs": [
    {
     "name": "stdout",
     "output_type": "stream",
     "text": [
      "10|10|10|10|10|10|10|10|10|10| <class 'str'>\n",
      "10|10\n"
     ]
    }
   ],
   "source": [
    "a = \"10|\"\n",
    "b = 10\n",
    "c = a * b\n",
    "print(c, type(c))\n",
    "c = a + str(b)\n",
    "print(c)"
   ]
  }
 ],
 "metadata": {
  "kernelspec": {
   "display_name": "Python 3",
   "language": "python",
   "name": "python3"
  },
  "language_info": {
   "codemirror_mode": {
    "name": "ipython",
    "version": 3
   },
   "file_extension": ".py",
   "mimetype": "text/x-python",
   "name": "python",
   "nbconvert_exporter": "python",
   "pygments_lexer": "ipython3",
   "version": "3.12.3"
  }
 },
 "nbformat": 4,
 "nbformat_minor": 2
}
